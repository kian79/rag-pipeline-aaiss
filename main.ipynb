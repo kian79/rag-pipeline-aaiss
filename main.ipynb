{
 "cells": [
  {
   "cell_type": "code",
   "execution_count": 1,
   "metadata": {},
   "outputs": [
    {
     "name": "stdout",
     "output_type": "stream",
     "text": [
      "Collecting python-dotenv\n",
      "  Using cached python_dotenv-1.0.1-py3-none-any.whl.metadata (23 kB)\n",
      "Using cached python_dotenv-1.0.1-py3-none-any.whl (19 kB)\n",
      "Installing collected packages: python-dotenv\n",
      "Successfully installed python-dotenv-1.0.1\n"
     ]
    }
   ],
   "source": [
    "!pip install python-dotenv"
   ]
  },
  {
   "cell_type": "code",
   "execution_count": 40,
   "metadata": {},
   "outputs": [
    {
     "name": "stdout",
     "output_type": "stream",
     "text": [
      "Collecting langchain\n",
      "  Downloading langchain-0.3.15-py3-none-any.whl.metadata (7.1 kB)\n",
      "Requirement already satisfied: PyYAML>=5.3 in /home/kian/anaconda3/envs/Rag_aaiss/lib/python3.12/site-packages (from langchain) (6.0.2)\n",
      "Collecting SQLAlchemy<3,>=1.4 (from langchain)\n",
      "  Downloading SQLAlchemy-2.0.37-cp312-cp312-manylinux_2_17_x86_64.manylinux2014_x86_64.whl.metadata (9.6 kB)\n",
      "Collecting aiohttp<4.0.0,>=3.8.3 (from langchain)\n",
      "  Downloading aiohttp-3.11.11-cp312-cp312-manylinux_2_17_x86_64.manylinux2014_x86_64.whl.metadata (7.7 kB)\n",
      "Requirement already satisfied: langchain-core<0.4.0,>=0.3.31 in /home/kian/anaconda3/envs/Rag_aaiss/lib/python3.12/site-packages (from langchain) (0.3.31)\n",
      "Collecting langchain-text-splitters<0.4.0,>=0.3.3 (from langchain)\n",
      "  Downloading langchain_text_splitters-0.3.5-py3-none-any.whl.metadata (2.3 kB)\n",
      "Requirement already satisfied: langsmith<0.4,>=0.1.17 in /home/kian/anaconda3/envs/Rag_aaiss/lib/python3.12/site-packages (from langchain) (0.3.1)\n",
      "Collecting numpy<3,>=1.26.2 (from langchain)\n",
      "  Downloading numpy-2.2.2-cp312-cp312-manylinux_2_17_x86_64.manylinux2014_x86_64.whl.metadata (62 kB)\n",
      "Requirement already satisfied: pydantic<3.0.0,>=2.7.4 in /home/kian/anaconda3/envs/Rag_aaiss/lib/python3.12/site-packages (from langchain) (2.10.5)\n",
      "Requirement already satisfied: requests<3,>=2 in /home/kian/anaconda3/envs/Rag_aaiss/lib/python3.12/site-packages (from langchain) (2.32.3)\n",
      "Requirement already satisfied: tenacity!=8.4.0,<10,>=8.1.0 in /home/kian/anaconda3/envs/Rag_aaiss/lib/python3.12/site-packages (from langchain) (9.0.0)\n",
      "Collecting aiohappyeyeballs>=2.3.0 (from aiohttp<4.0.0,>=3.8.3->langchain)\n",
      "  Downloading aiohappyeyeballs-2.4.4-py3-none-any.whl.metadata (6.1 kB)\n",
      "Collecting aiosignal>=1.1.2 (from aiohttp<4.0.0,>=3.8.3->langchain)\n",
      "  Downloading aiosignal-1.3.2-py2.py3-none-any.whl.metadata (3.8 kB)\n",
      "Requirement already satisfied: attrs>=17.3.0 in /home/kian/anaconda3/envs/Rag_aaiss/lib/python3.12/site-packages (from aiohttp<4.0.0,>=3.8.3->langchain) (24.3.0)\n",
      "Collecting frozenlist>=1.1.1 (from aiohttp<4.0.0,>=3.8.3->langchain)\n",
      "  Using cached frozenlist-1.5.0-cp312-cp312-manylinux_2_5_x86_64.manylinux1_x86_64.manylinux_2_17_x86_64.manylinux2014_x86_64.whl.metadata (13 kB)\n",
      "Collecting multidict<7.0,>=4.5 (from aiohttp<4.0.0,>=3.8.3->langchain)\n",
      "  Using cached multidict-6.1.0-cp312-cp312-manylinux_2_17_x86_64.manylinux2014_x86_64.whl.metadata (5.0 kB)\n",
      "Collecting propcache>=0.2.0 (from aiohttp<4.0.0,>=3.8.3->langchain)\n",
      "  Downloading propcache-0.2.1-cp312-cp312-manylinux_2_17_x86_64.manylinux2014_x86_64.whl.metadata (9.2 kB)\n",
      "Collecting yarl<2.0,>=1.17.0 (from aiohttp<4.0.0,>=3.8.3->langchain)\n",
      "  Downloading yarl-1.18.3-cp312-cp312-manylinux_2_17_x86_64.manylinux2014_x86_64.whl.metadata (69 kB)\n",
      "Requirement already satisfied: jsonpatch<2.0,>=1.33 in /home/kian/anaconda3/envs/Rag_aaiss/lib/python3.12/site-packages (from langchain-core<0.4.0,>=0.3.31->langchain) (1.33)\n",
      "Requirement already satisfied: packaging<25,>=23.2 in /home/kian/anaconda3/envs/Rag_aaiss/lib/python3.12/site-packages (from langchain-core<0.4.0,>=0.3.31->langchain) (24.2)\n",
      "Requirement already satisfied: typing-extensions>=4.7 in /home/kian/anaconda3/envs/Rag_aaiss/lib/python3.12/site-packages (from langchain-core<0.4.0,>=0.3.31->langchain) (4.12.2)\n",
      "Requirement already satisfied: httpx<1,>=0.23.0 in /home/kian/anaconda3/envs/Rag_aaiss/lib/python3.12/site-packages (from langsmith<0.4,>=0.1.17->langchain) (0.28.1)\n",
      "Requirement already satisfied: orjson<4.0.0,>=3.9.14 in /home/kian/anaconda3/envs/Rag_aaiss/lib/python3.12/site-packages (from langsmith<0.4,>=0.1.17->langchain) (3.10.15)\n",
      "Requirement already satisfied: requests-toolbelt<2.0.0,>=1.0.0 in /home/kian/anaconda3/envs/Rag_aaiss/lib/python3.12/site-packages (from langsmith<0.4,>=0.1.17->langchain) (1.0.0)\n",
      "Requirement already satisfied: zstandard<0.24.0,>=0.23.0 in /home/kian/anaconda3/envs/Rag_aaiss/lib/python3.12/site-packages (from langsmith<0.4,>=0.1.17->langchain) (0.23.0)\n",
      "Requirement already satisfied: annotated-types>=0.6.0 in /home/kian/anaconda3/envs/Rag_aaiss/lib/python3.12/site-packages (from pydantic<3.0.0,>=2.7.4->langchain) (0.7.0)\n",
      "Requirement already satisfied: pydantic-core==2.27.2 in /home/kian/anaconda3/envs/Rag_aaiss/lib/python3.12/site-packages (from pydantic<3.0.0,>=2.7.4->langchain) (2.27.2)\n",
      "Requirement already satisfied: charset-normalizer<4,>=2 in /home/kian/anaconda3/envs/Rag_aaiss/lib/python3.12/site-packages (from requests<3,>=2->langchain) (3.4.1)\n",
      "Requirement already satisfied: idna<4,>=2.5 in /home/kian/anaconda3/envs/Rag_aaiss/lib/python3.12/site-packages (from requests<3,>=2->langchain) (3.10)\n",
      "Requirement already satisfied: urllib3<3,>=1.21.1 in /home/kian/anaconda3/envs/Rag_aaiss/lib/python3.12/site-packages (from requests<3,>=2->langchain) (2.3.0)\n",
      "Requirement already satisfied: certifi>=2017.4.17 in /home/kian/anaconda3/envs/Rag_aaiss/lib/python3.12/site-packages (from requests<3,>=2->langchain) (2024.12.14)\n",
      "Collecting greenlet!=0.4.17 (from SQLAlchemy<3,>=1.4->langchain)\n",
      "  Using cached greenlet-3.1.1-cp312-cp312-manylinux_2_24_x86_64.manylinux_2_28_x86_64.whl.metadata (3.8 kB)\n",
      "Requirement already satisfied: anyio in /home/kian/anaconda3/envs/Rag_aaiss/lib/python3.12/site-packages (from httpx<1,>=0.23.0->langsmith<0.4,>=0.1.17->langchain) (4.8.0)\n",
      "Requirement already satisfied: httpcore==1.* in /home/kian/anaconda3/envs/Rag_aaiss/lib/python3.12/site-packages (from httpx<1,>=0.23.0->langsmith<0.4,>=0.1.17->langchain) (1.0.7)\n",
      "Requirement already satisfied: h11<0.15,>=0.13 in /home/kian/anaconda3/envs/Rag_aaiss/lib/python3.12/site-packages (from httpcore==1.*->httpx<1,>=0.23.0->langsmith<0.4,>=0.1.17->langchain) (0.14.0)\n",
      "Requirement already satisfied: jsonpointer>=1.9 in /home/kian/anaconda3/envs/Rag_aaiss/lib/python3.12/site-packages (from jsonpatch<2.0,>=1.33->langchain-core<0.4.0,>=0.3.31->langchain) (3.0.0)\n",
      "Requirement already satisfied: sniffio>=1.1 in /home/kian/anaconda3/envs/Rag_aaiss/lib/python3.12/site-packages (from anyio->httpx<1,>=0.23.0->langsmith<0.4,>=0.1.17->langchain) (1.3.1)\n",
      "Downloading langchain-0.3.15-py3-none-any.whl (1.0 MB)\n",
      "\u001b[2K   \u001b[90m━━━━━━━━━━━━━━━━━━━━━━━━━━━━━━━━━━━━━━━━\u001b[0m \u001b[32m1.0/1.0 MB\u001b[0m \u001b[31m306.8 kB/s\u001b[0m eta \u001b[36m0:00:00\u001b[0ma \u001b[36m0:00:01\u001b[0m\n",
      "\u001b[?25hDownloading aiohttp-3.11.11-cp312-cp312-manylinux_2_17_x86_64.manylinux2014_x86_64.whl (1.7 MB)\n",
      "\u001b[2K   \u001b[90m━━━━━━━━━━━━━━━━━━━━━━━━━━━━━━━━━━━━━━━━\u001b[0m \u001b[32m1.7/1.7 MB\u001b[0m \u001b[31m297.3 kB/s\u001b[0m eta \u001b[36m0:00:00\u001b[0ma \u001b[36m0:00:01\u001b[0m\n",
      "\u001b[?25hDownloading langchain_text_splitters-0.3.5-py3-none-any.whl (31 kB)\n",
      "Downloading numpy-2.2.2-cp312-cp312-manylinux_2_17_x86_64.manylinux2014_x86_64.whl (16.1 MB)\n",
      "\u001b[2K   \u001b[90m━━━━━━━━━━━━━━━━━━━━━━━━━━━━━━━━━━━━━━━━\u001b[0m \u001b[32m16.1/16.1 MB\u001b[0m \u001b[31m727.7 kB/s\u001b[0m eta \u001b[36m0:00:00\u001b[0m00:01\u001b[0m00:01\u001b[0m\n",
      "\u001b[?25hDownloading SQLAlchemy-2.0.37-cp312-cp312-manylinux_2_17_x86_64.manylinux2014_x86_64.whl (3.3 MB)\n",
      "\u001b[2K   \u001b[90m━━━━━━━━━━━━━━━━━━━━━━━━━━━━━━━━━━━━━━━━\u001b[0m \u001b[32m3.3/3.3 MB\u001b[0m \u001b[31m802.4 kB/s\u001b[0m eta \u001b[36m0:00:00\u001b[0ma \u001b[36m0:00:01\u001b[0m\n",
      "\u001b[?25hDownloading aiohappyeyeballs-2.4.4-py3-none-any.whl (14 kB)\n",
      "Downloading aiosignal-1.3.2-py2.py3-none-any.whl (7.6 kB)\n",
      "Using cached frozenlist-1.5.0-cp312-cp312-manylinux_2_5_x86_64.manylinux1_x86_64.manylinux_2_17_x86_64.manylinux2014_x86_64.whl (283 kB)\n",
      "Using cached greenlet-3.1.1-cp312-cp312-manylinux_2_24_x86_64.manylinux_2_28_x86_64.whl (613 kB)\n",
      "Using cached multidict-6.1.0-cp312-cp312-manylinux_2_17_x86_64.manylinux2014_x86_64.whl (131 kB)\n",
      "Downloading propcache-0.2.1-cp312-cp312-manylinux_2_17_x86_64.manylinux2014_x86_64.whl (243 kB)\n",
      "Downloading yarl-1.18.3-cp312-cp312-manylinux_2_17_x86_64.manylinux2014_x86_64.whl (336 kB)\n",
      "Installing collected packages: propcache, numpy, multidict, greenlet, frozenlist, aiohappyeyeballs, yarl, SQLAlchemy, aiosignal, aiohttp, langchain-text-splitters, langchain\n",
      "Successfully installed SQLAlchemy-2.0.37 aiohappyeyeballs-2.4.4 aiohttp-3.11.11 aiosignal-1.3.2 frozenlist-1.5.0 greenlet-3.1.1 langchain-0.3.15 langchain-text-splitters-0.3.5 multidict-6.1.0 numpy-2.2.2 propcache-0.2.1 yarl-1.18.3\n"
     ]
    }
   ],
   "source": [
    "!pip install langchain"
   ]
  },
  {
   "cell_type": "code",
   "execution_count": 11,
   "metadata": {},
   "outputs": [
    {
     "name": "stdout",
     "output_type": "stream",
     "text": [
      "Note: you may need to restart the kernel to use updated packages.\n"
     ]
    }
   ],
   "source": [
    "pip install -qU langchain-anthropic"
   ]
  },
  {
   "cell_type": "code",
   "execution_count": 32,
   "metadata": {},
   "outputs": [
    {
     "name": "stdout",
     "output_type": "stream",
     "text": [
      "Collecting langchain_mistralai\n",
      "  Downloading langchain_mistralai-0.2.4-py3-none-any.whl.metadata (2.5 kB)\n",
      "Requirement already satisfied: httpx<1,>=0.25.2 in /home/kian/anaconda3/envs/Rag_aaiss/lib/python3.12/site-packages (from langchain_mistralai) (0.28.1)\n",
      "Collecting httpx-sse<1,>=0.3.1 (from langchain_mistralai)\n",
      "  Downloading httpx_sse-0.4.0-py3-none-any.whl.metadata (9.0 kB)\n",
      "Requirement already satisfied: langchain-core<0.4.0,>=0.3.27 in /home/kian/anaconda3/envs/Rag_aaiss/lib/python3.12/site-packages (from langchain_mistralai) (0.3.31)\n",
      "Requirement already satisfied: pydantic<3,>=2 in /home/kian/anaconda3/envs/Rag_aaiss/lib/python3.12/site-packages (from langchain_mistralai) (2.10.5)\n",
      "Collecting tokenizers<1,>=0.15.1 (from langchain_mistralai)\n",
      "  Downloading tokenizers-0.21.0-cp39-abi3-manylinux_2_17_x86_64.manylinux2014_x86_64.whl.metadata (6.7 kB)\n",
      "Requirement already satisfied: anyio in /home/kian/anaconda3/envs/Rag_aaiss/lib/python3.12/site-packages (from httpx<1,>=0.25.2->langchain_mistralai) (4.8.0)\n",
      "Requirement already satisfied: certifi in /home/kian/anaconda3/envs/Rag_aaiss/lib/python3.12/site-packages (from httpx<1,>=0.25.2->langchain_mistralai) (2024.12.14)\n",
      "Requirement already satisfied: httpcore==1.* in /home/kian/anaconda3/envs/Rag_aaiss/lib/python3.12/site-packages (from httpx<1,>=0.25.2->langchain_mistralai) (1.0.7)\n",
      "Requirement already satisfied: idna in /home/kian/anaconda3/envs/Rag_aaiss/lib/python3.12/site-packages (from httpx<1,>=0.25.2->langchain_mistralai) (3.10)\n",
      "Requirement already satisfied: h11<0.15,>=0.13 in /home/kian/anaconda3/envs/Rag_aaiss/lib/python3.12/site-packages (from httpcore==1.*->httpx<1,>=0.25.2->langchain_mistralai) (0.14.0)\n",
      "Requirement already satisfied: PyYAML>=5.3 in /home/kian/anaconda3/envs/Rag_aaiss/lib/python3.12/site-packages (from langchain-core<0.4.0,>=0.3.27->langchain_mistralai) (6.0.2)\n",
      "Requirement already satisfied: jsonpatch<2.0,>=1.33 in /home/kian/anaconda3/envs/Rag_aaiss/lib/python3.12/site-packages (from langchain-core<0.4.0,>=0.3.27->langchain_mistralai) (1.33)\n",
      "Requirement already satisfied: langsmith<0.4,>=0.1.125 in /home/kian/anaconda3/envs/Rag_aaiss/lib/python3.12/site-packages (from langchain-core<0.4.0,>=0.3.27->langchain_mistralai) (0.3.1)\n",
      "Requirement already satisfied: packaging<25,>=23.2 in /home/kian/anaconda3/envs/Rag_aaiss/lib/python3.12/site-packages (from langchain-core<0.4.0,>=0.3.27->langchain_mistralai) (24.2)\n",
      "Requirement already satisfied: tenacity!=8.4.0,<10.0.0,>=8.1.0 in /home/kian/anaconda3/envs/Rag_aaiss/lib/python3.12/site-packages (from langchain-core<0.4.0,>=0.3.27->langchain_mistralai) (9.0.0)\n",
      "Requirement already satisfied: typing-extensions>=4.7 in /home/kian/anaconda3/envs/Rag_aaiss/lib/python3.12/site-packages (from langchain-core<0.4.0,>=0.3.27->langchain_mistralai) (4.12.2)\n",
      "Requirement already satisfied: annotated-types>=0.6.0 in /home/kian/anaconda3/envs/Rag_aaiss/lib/python3.12/site-packages (from pydantic<3,>=2->langchain_mistralai) (0.7.0)\n",
      "Requirement already satisfied: pydantic-core==2.27.2 in /home/kian/anaconda3/envs/Rag_aaiss/lib/python3.12/site-packages (from pydantic<3,>=2->langchain_mistralai) (2.27.2)\n",
      "Collecting huggingface-hub<1.0,>=0.16.4 (from tokenizers<1,>=0.15.1->langchain_mistralai)\n",
      "  Downloading huggingface_hub-0.27.1-py3-none-any.whl.metadata (13 kB)\n",
      "Collecting filelock (from huggingface-hub<1.0,>=0.16.4->tokenizers<1,>=0.15.1->langchain_mistralai)\n",
      "  Downloading filelock-3.17.0-py3-none-any.whl.metadata (2.9 kB)\n",
      "Collecting fsspec>=2023.5.0 (from huggingface-hub<1.0,>=0.16.4->tokenizers<1,>=0.15.1->langchain_mistralai)\n",
      "  Downloading fsspec-2024.12.0-py3-none-any.whl.metadata (11 kB)\n",
      "Requirement already satisfied: requests in /home/kian/anaconda3/envs/Rag_aaiss/lib/python3.12/site-packages (from huggingface-hub<1.0,>=0.16.4->tokenizers<1,>=0.15.1->langchain_mistralai) (2.32.3)\n",
      "Requirement already satisfied: tqdm>=4.42.1 in /home/kian/anaconda3/envs/Rag_aaiss/lib/python3.12/site-packages (from huggingface-hub<1.0,>=0.16.4->tokenizers<1,>=0.15.1->langchain_mistralai) (4.67.1)\n",
      "Requirement already satisfied: jsonpointer>=1.9 in /home/kian/anaconda3/envs/Rag_aaiss/lib/python3.12/site-packages (from jsonpatch<2.0,>=1.33->langchain-core<0.4.0,>=0.3.27->langchain_mistralai) (3.0.0)\n",
      "Requirement already satisfied: orjson<4.0.0,>=3.9.14 in /home/kian/anaconda3/envs/Rag_aaiss/lib/python3.12/site-packages (from langsmith<0.4,>=0.1.125->langchain-core<0.4.0,>=0.3.27->langchain_mistralai) (3.10.15)\n",
      "Requirement already satisfied: requests-toolbelt<2.0.0,>=1.0.0 in /home/kian/anaconda3/envs/Rag_aaiss/lib/python3.12/site-packages (from langsmith<0.4,>=0.1.125->langchain-core<0.4.0,>=0.3.27->langchain_mistralai) (1.0.0)\n",
      "Requirement already satisfied: zstandard<0.24.0,>=0.23.0 in /home/kian/anaconda3/envs/Rag_aaiss/lib/python3.12/site-packages (from langsmith<0.4,>=0.1.125->langchain-core<0.4.0,>=0.3.27->langchain_mistralai) (0.23.0)\n",
      "Requirement already satisfied: sniffio>=1.1 in /home/kian/anaconda3/envs/Rag_aaiss/lib/python3.12/site-packages (from anyio->httpx<1,>=0.25.2->langchain_mistralai) (1.3.1)\n",
      "Requirement already satisfied: charset-normalizer<4,>=2 in /home/kian/anaconda3/envs/Rag_aaiss/lib/python3.12/site-packages (from requests->huggingface-hub<1.0,>=0.16.4->tokenizers<1,>=0.15.1->langchain_mistralai) (3.4.1)\n",
      "Requirement already satisfied: urllib3<3,>=1.21.1 in /home/kian/anaconda3/envs/Rag_aaiss/lib/python3.12/site-packages (from requests->huggingface-hub<1.0,>=0.16.4->tokenizers<1,>=0.15.1->langchain_mistralai) (2.3.0)\n",
      "Downloading langchain_mistralai-0.2.4-py3-none-any.whl (15 kB)\n",
      "Downloading httpx_sse-0.4.0-py3-none-any.whl (7.8 kB)\n",
      "Downloading tokenizers-0.21.0-cp39-abi3-manylinux_2_17_x86_64.manylinux2014_x86_64.whl (3.0 MB)\n",
      "\u001b[2K   \u001b[90m━━━━━━━━━━━━━━━━━━━━━━━━━━━━━━━━━━━━━━━━\u001b[0m \u001b[32m3.0/3.0 MB\u001b[0m \u001b[31m859.9 kB/s\u001b[0m eta \u001b[36m0:00:00\u001b[0ma \u001b[36m0:00:01\u001b[0m\n",
      "\u001b[?25hDownloading huggingface_hub-0.27.1-py3-none-any.whl (450 kB)\n",
      "Downloading fsspec-2024.12.0-py3-none-any.whl (183 kB)\n",
      "Downloading filelock-3.17.0-py3-none-any.whl (16 kB)\n",
      "Installing collected packages: httpx-sse, fsspec, filelock, huggingface-hub, tokenizers, langchain_mistralai\n",
      "Successfully installed filelock-3.17.0 fsspec-2024.12.0 httpx-sse-0.4.0 huggingface-hub-0.27.1 langchain_mistralai-0.2.4 tokenizers-0.21.0\n",
      "Note: you may need to restart the kernel to use updated packages.\n"
     ]
    }
   ],
   "source": [
    "pip install langchain_mistralai"
   ]
  },
  {
   "cell_type": "markdown",
   "metadata": {},
   "source": [
    "# Imports"
   ]
  },
  {
   "cell_type": "code",
   "execution_count": 1,
   "metadata": {},
   "outputs": [],
   "source": [
    "import os\n",
    "\n",
    "from dotenv import load_dotenv\n",
    "from langchain_mistralai import ChatMistralAI\n",
    "from langchain_core.output_parsers import StrOutputParser"
   ]
  },
  {
   "cell_type": "markdown",
   "metadata": {},
   "source": [
    "# Load API KEY"
   ]
  },
  {
   "cell_type": "code",
   "execution_count": 2,
   "metadata": {},
   "outputs": [],
   "source": [
    "load_dotenv()\n",
    "MISTRAL_API_KEY = os.getenv(\"MISTRAL_API_KEY\")"
   ]
  },
  {
   "cell_type": "markdown",
   "metadata": {},
   "source": [
    "# Load model"
   ]
  },
  {
   "cell_type": "code",
   "execution_count": 3,
   "metadata": {},
   "outputs": [],
   "source": [
    "model = ChatMistralAI(model=\"mistral-large-latest\", api_key=MISTRAL_API_KEY)"
   ]
  },
  {
   "cell_type": "code",
   "execution_count": 12,
   "metadata": {},
   "outputs": [
    {
     "data": {
      "text/plain": [
       "AIMessage(content=\"As of my last update in October 2023, the Iranian football team with the most trophies is Persepolis F.C. Persepolis, based in Tehran, is one of the most successful clubs in Iranian football history. They have won numerous titles, including multiple Iran Pro League championships, Hazfi Cups, and other domestic and international competitions.\\n\\nFor the most current information, it's always a good idea to check the latest sports news or official club websites, as records and achievements can change over time.\", additional_kwargs={}, response_metadata={'token_usage': {'prompt_tokens': 15, 'total_tokens': 134, 'completion_tokens': 119}, 'model': 'mistral-large-latest', 'finish_reason': 'stop'}, id='run-57e441f2-e1aa-4eb3-85c2-544dca3e4fc2-0', usage_metadata={'input_tokens': 15, 'output_tokens': 119, 'total_tokens': 134})"
      ]
     },
     "execution_count": 12,
     "metadata": {},
     "output_type": "execute_result"
    }
   ],
   "source": [
    " prompt_text = \"Which Iranian football team has the most trophies?\"\n",
    "model.invoke(prompt_text)"
   ]
  },
  {
   "cell_type": "code",
   "execution_count": 13,
   "metadata": {},
   "outputs": [
    {
     "data": {
      "text/plain": [
       "'As of my last update in October 2023, Persepolis FC is generally considered the Iranian football team with the most trophies. Persepolis has a rich history and has won numerous domestic and international titles, making it one of the most successful clubs in Iranian football.\\n\\nKey achievements of Persepolis FC include:\\n- Multiple Iran Pro League titles\\n- Hazfi Cup wins\\n- Other domestic and international honors\\n\\nFor the most current and detailed information, it is advisable to check the latest football statistics and records.'"
      ]
     },
     "execution_count": 13,
     "metadata": {},
     "output_type": "execute_result"
    }
   ],
   "source": [
    "parser = StrOutputParser()\n",
    "\n",
    "chain = model | parser\n",
    "chain.invoke(prompt_text)"
   ]
  },
  {
   "cell_type": "code",
   "execution_count": 26,
   "metadata": {},
   "outputs": [],
   "source": [
    "from langchain.prompts import ChatPromptTemplate\n",
    "\n",
    "example_template = \"\"\"\n",
    "Answer the question based on the context below. If you can't \n",
    "answer the question, reply \"I don't know\".\n",
    "\n",
    "Context: {context}  \n",
    "\n",
    "Question: {question}\n",
    "\"\"\"\n",
    "\n",
    "example_prompt = ChatPromptTemplate.from_template(example_template)"
   ]
  },
  {
   "cell_type": "code",
   "execution_count": 27,
   "metadata": {},
   "outputs": [
    {
     "data": {
      "text/plain": [
       "'Kian is from Iran.'"
      ]
     },
     "execution_count": 27,
     "metadata": {},
     "output_type": "execute_result"
    }
   ],
   "source": [
    "chain = example_prompt | model | parser\n",
    "chain.invoke({\n",
    "    \"context\": \"Kian is from Iran.\",\n",
    "    \"question\": \"Where is Kian from?\"\n",
    "})"
   ]
  },
  {
   "cell_type": "markdown",
   "metadata": {},
   "source": [
    "# Prompt Engineering"
   ]
  },
  {
   "cell_type": "markdown",
   "metadata": {},
   "source": [
    "## In-context learning"
   ]
  },
  {
   "cell_type": "markdown",
   "metadata": {},
   "source": [
    "### Zero Shot Learning"
   ]
  },
  {
   "cell_type": "code",
   "execution_count": 39,
   "metadata": {},
   "outputs": [
    {
     "name": "stdout",
     "output_type": "stream",
     "text": [
      "The sentence \"I love this movie.\" can be classified as **Positive**.\n"
     ]
    }
   ],
   "source": [
    "template_zero_shot = \"\"\"\n",
    "You are an expert sentiment classifier. Classify the following sentence as \n",
    "\"Positive\", \"Negative\", or \"Neutral\". \n",
    "Sentence: \"{sentence}\"\n",
    "\"\"\"\n",
    "\n",
    "prompt_zero_shot = ChatPromptTemplate.from_template(template_zero_shot)\n",
    "chain_zero_shot = prompt_zero_shot | model | parser\n",
    "\n",
    "response_zero_shot = chain_zero_shot.invoke({\"sentence\": \"I love this movie.\"})\n",
    "print(response_zero_shot)"
   ]
  },
  {
   "cell_type": "markdown",
   "metadata": {},
   "source": [
    "### One-shot Learning"
   ]
  },
  {
   "cell_type": "code",
   "execution_count": 48,
   "metadata": {},
   "outputs": [
    {
     "name": "stdout",
     "output_type": "stream",
     "text": [
      "Based on the provided example and the sentence \"This movie was normal,\" the sentiment can be classified as:\n",
      "\n",
      "**Neutral**\n",
      "\n",
      "The word \"normal\" does not convey a strong positive or negative emotion, indicating a neutral sentiment.\n"
     ]
    }
   ],
   "source": [
    "template1 = \"\"\"\n",
    "You are an expert sentiment classifier. Classify the sentence below as \"Positive\", \"Negative\", or \"Neutral\",\n",
    "based on the example provided.\n",
    "\n",
    "Examples:\n",
    "sentence: \"This movie is awesome!\"\n",
    "Sentiment: Positive\n",
    "\n",
    "Now, classify this new sentence:\n",
    "\"{sentence}\"\n",
    "\"\"\"\n",
    "\n",
    "prompt1 = ChatPromptTemplate.from_template(template1)\n",
    "chain1 = prompt1 | model | parser\n",
    "response = chain1.invoke({\"sentence\": \"This movie was normal\"})\n",
    "print(response)\n"
   ]
  },
  {
   "cell_type": "markdown",
   "metadata": {},
   "source": [
    "### Few-shot Learning"
   ]
  },
  {
   "cell_type": "code",
   "execution_count": 52,
   "metadata": {},
   "outputs": [
    {
     "name": "stdout",
     "output_type": "stream",
     "text": [
      "Sentiment: Positive\n"
     ]
    }
   ],
   "source": [
    "template1 = \"\"\"\n",
    "You are an expert sentiment classifier. Classify the sentence below as \"Positive\", \"Negative\", or \"Neutral\",\n",
    "based on the examples provided.\n",
    "\n",
    "Examples:\n",
    "sentence: \"This movie is awesome!\"\n",
    "Sentiment: Positive\n",
    "\n",
    "sentence: \"This is bad!\"\n",
    "Sentiment: Negative\n",
    "\n",
    "sentence: \"This movie was normal.\"\n",
    "Sentiment: Neutral\n",
    "\n",
    "Now, classify this new sentence:\n",
    "\"{sentence}\"\n",
    "\"\"\"\n",
    "\n",
    "prompt1 = ChatPromptTemplate.from_template(template1)\n",
    "chain1 = prompt1 | model | parser\n",
    "response = chain1.invoke({\"sentence\": \"I love this movie.\"})\n",
    "print(response)\n"
   ]
  },
  {
   "cell_type": "markdown",
   "metadata": {},
   "source": [
    "### Role/Persona Prompts"
   ]
  },
  {
   "cell_type": "code",
   "execution_count": 58,
   "metadata": {},
   "outputs": [
    {
     "name": "stdout",
     "output_type": "stream",
     "text": [
      "Babies are typically born through a process called childbirth. This process usually involves labor, where the mother experiences contractions that help push the baby out of the uterus and through the birth canal. The baby can be delivered vaginally or, in some cases, through a surgical procedure called a cesarean section (C-section). In a vaginal birth, the baby exits through the vagina, while in a C-section, the baby is delivered through an incision made in the mother's abdomen and uterus.\n"
     ]
    }
   ],
   "source": [
    "template1 = \"\"\"\n",
    "Answer the question. If you can't answer the question, reply \"I don't know\".\n",
    "Question: \"{question}\"\n",
    "\"\"\"\n",
    "prompt1 = ChatPromptTemplate.from_template(template1)\n",
    "chain1 = prompt1 | model | parser\n",
    "response = chain1.invoke({\"question\": \"?\"})\n",
    "print(response)"
   ]
  },
  {
   "cell_type": "code",
   "execution_count": 59,
   "metadata": {},
   "outputs": [
    {
     "name": "stdout",
     "output_type": "stream",
     "text": [
      "Sure! Babies grow inside a special place in their mommy's tummy called the womb. It's like a cozy little nest where the baby stays for about nine months. The baby gets bigger and stronger in the womb, and when it's ready, it comes out of mommy's tummy. Doctors and nurses help the mommy to make sure the baby comes out safely. It's a very special and amazing thing!\n"
     ]
    }
   ],
   "source": [
    "template1 = \"\"\"\n",
    "You are a kindergarden teacher for 5 year old students. One of the students asked you the question below, answer it so he/she can understand.\n",
    "\n",
    "Question: \"{question}\"\n",
    "\"\"\"\n",
    "\n",
    "prompt1 = ChatPromptTemplate.from_template(template1)\n",
    "chain1 = prompt1 | model | parser\n",
    "response = chain1.invoke({\"question\": \"How do babies born?\"})\n",
    "print(response)"
   ]
  },
  {
   "cell_type": "markdown",
   "metadata": {},
   "source": [
    "### Structured Output"
   ]
  },
  {
   "cell_type": "code",
   "execution_count": 66,
   "metadata": {},
   "outputs": [
    {
     "name": "stdout",
     "output_type": "stream",
     "text": [
      "```json\n",
      "{\n",
      "  \"short_answer\": \"Paris is located in France.\",\n",
      "  \"long_answer\": \"Paris, the capital city of France, is situated in the northern part of the country. It lies on the Seine River and is known for its rich history, iconic landmarks such as the Eiffel Tower and the Louvre Museum, and its significant cultural influence. Paris is also the most populous city in France and serves as a major European hub for finance, commerce, science, and the arts.\",\n",
      "  \"sources\": []\n",
      "}\n",
      "```\n"
     ]
    }
   ],
   "source": [
    "template1 = \"\"\"\n",
    "You are an AI assistant that returns structured JSON. When asked a question, respond with a JSON object containing:\n",
    "- \"short_answer\": a concise, one-sentence answer.\n",
    "- \"long_answer\": a detailed explanation in at least 100 words.\n",
    "- \"sources\": a list of any references cited.\n",
    "question: \"{question}\"\n",
    "\"\"\"\n",
    "\n",
    "prompt1 = ChatPromptTemplate.from_template(template1)\n",
    "chain1 = prompt1 | model | parser\n",
    "response = chain1.invoke({\"question\": \"Where is Paris?\"})\n",
    "print(response)"
   ]
  },
  {
   "cell_type": "code",
   "execution_count": null,
   "metadata": {},
   "outputs": [],
   "source": []
  }
 ],
 "metadata": {
  "kernelspec": {
   "display_name": "Rag_aaiss",
   "language": "python",
   "name": "python3"
  },
  "language_info": {
   "codemirror_mode": {
    "name": "ipython",
    "version": 3
   },
   "file_extension": ".py",
   "mimetype": "text/x-python",
   "name": "python",
   "nbconvert_exporter": "python",
   "pygments_lexer": "ipython3",
   "version": "3.12.8"
  }
 },
 "nbformat": 4,
 "nbformat_minor": 2
}
